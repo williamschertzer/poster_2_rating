{
 "cells": [
  {
   "cell_type": "code",
   "execution_count": 94,
   "id": "1e91a079",
   "metadata": {},
   "outputs": [],
   "source": [
    "import torch\n",
    "from torch.utils.data import Dataset\n",
    "from torch.utils.data import DataLoader\n",
    "from torchvision.io import read_image\n",
    "import pandas as pd\n",
    "import os"
   ]
  },
  {
   "cell_type": "code",
   "execution_count": 95,
   "id": "2d52b6b0",
   "metadata": {},
   "outputs": [],
   "source": [
    "class PosterDataset(Dataset):\n",
    "    def __init__(self, csv_file, img_dir, transform=None, target_transform=None, genres=None):\n",
    "        # csv_file: location of csv file\n",
    "        # img_dir: location of image directory\n",
    "        \n",
    "        # transform: some transform object you can use to modify images. not necessary for project IMO\n",
    "        # target_transform: something about transforming the label? not applicable to us\n",
    "        \n",
    "        # Genre: Lst parameter.\n",
    "        \n",
    "        self.df = pd.read_csv(csv_file)\n",
    "        self.img_dir = img_dir\n",
    "        self.transform = transform\n",
    "        self.target_transform = target_transform\n",
    "        \n",
    "        if genres != None:\n",
    "            finalBool = 0\n",
    "            \n",
    "            # Add columns that tell you whether or not the movie is in the genre\n",
    "            for genre in genres:\n",
    "                newCol = self.df['Genre'].str.contains(genre, case=False)\n",
    "                \n",
    "                self.df[genre] = newCol\n",
    "                \n",
    "                if isinstance(finalBool, int):\n",
    "                    finalBool = (self.df[genre] == True)\n",
    "                else:\n",
    "                    finalBool = finalBool | (self.df[genre] == True)\n",
    "                    \n",
    "            # Now the dataframe will only have movies of the genre you asked for.\n",
    "            self.df = self.df[finalBool]\n",
    "            self.df = self.df.reset_index(drop=True)\n",
    "            \n",
    "        #print(self.df.head())\n",
    "\n",
    "    def __len__(self):\n",
    "        return len(self.df)\n",
    "\n",
    "    def __getitem__(self, idx):\n",
    "        img_path = self.img_dir + '/' + str(self.df.iloc[idx]['imdbId']) + '.jpg'\n",
    "        image = read_image(img_path)\n",
    "        label = self.df.iloc[idx]['Score']\n",
    "        \n",
    "        if self.transform:\n",
    "            image = self.transform(image)\n",
    "            \n",
    "        return image, label"
   ]
  },
  {
   "cell_type": "code",
   "execution_count": 96,
   "id": "975c8317",
   "metadata": {},
   "outputs": [],
   "source": [
    "csv_file = '../data/movie_data.csv'\n",
    "img_dir = '../data/MoviePosters'\n",
    "pod = PosterDataset(csv_file, img_dir, genres = ['Action', 'Animation'])"
   ]
  },
  {
   "cell_type": "code",
   "execution_count": 97,
   "id": "968904a2",
   "metadata": {},
   "outputs": [
    {
     "data": {
      "text/plain": [
       "(tensor([[[  3,   3,   4,  ...,   7,   0,   0],\n",
       "          [  0,   0,   0,  ...,   6,   0,   0],\n",
       "          [  0,   0,   0,  ...,  11,   5,   0],\n",
       "          ...,\n",
       "          [169, 174, 191,  ...,  93,  92,  92],\n",
       "          [182, 184, 189,  ...,  69,  64,  59],\n",
       "          [136, 132, 129,  ...,  58,  51,  47]],\n",
       " \n",
       "         [[123, 121, 119,  ...,  98, 101, 103],\n",
       "          [119, 118, 116,  ...,  88,  91,  93],\n",
       "          [116, 114, 113,  ...,  79,  82,  84],\n",
       "          ...,\n",
       "          [ 97, 100, 113,  ...,  30,  31,  31],\n",
       "          [101, 102, 102,  ...,  25,  25,  26],\n",
       "          [ 56,  50,  44,  ...,  19,  19,  19]],\n",
       " \n",
       "         [[184, 183, 182,  ..., 171, 171, 171],\n",
       "          [180, 180, 177,  ..., 162, 162, 162],\n",
       "          [177, 175, 174,  ..., 154, 154, 154],\n",
       "          ...,\n",
       "          [ 59,  55,  64,  ...,  13,  13,  13],\n",
       "          [ 71,  64,  59,  ...,  22,  20,  17],\n",
       "          [ 19,  12,   3,  ...,  22,  20,  18]]], dtype=torch.uint8),\n",
       " 8.3)"
      ]
     },
     "execution_count": 97,
     "metadata": {},
     "output_type": "execute_result"
    }
   ],
   "source": [
    "pod.__getitem__(0)"
   ]
  },
  {
   "cell_type": "code",
   "execution_count": 98,
   "id": "6965b946",
   "metadata": {},
   "outputs": [
    {
     "data": {
      "text/plain": [
       "6617"
      ]
     },
     "execution_count": 98,
     "metadata": {},
     "output_type": "execute_result"
    }
   ],
   "source": [
    "len(pod)"
   ]
  },
  {
   "cell_type": "code",
   "execution_count": 101,
   "id": "a6ac537f",
   "metadata": {},
   "outputs": [],
   "source": [
    "trainSize = int(len(pd) * 0.8)\n",
    "testSize = len(pd) - trainSize\n",
    "\n",
    "trainData, testData = torch.utils.data.random_split(pd, [trainSize, testSize])"
   ]
  },
  {
   "cell_type": "code",
   "execution_count": 102,
   "id": "46d8ae23",
   "metadata": {},
   "outputs": [],
   "source": [
    "trainDataLoader = DataLoader(trainData, batch_size = 2, shuffle=True)\n",
    "testDataLoader = DataLoader(testData, batch_size = 2, shuffle=True)"
   ]
  },
  {
   "cell_type": "code",
   "execution_count": null,
   "id": "e91564b6",
   "metadata": {},
   "outputs": [],
   "source": []
  }
 ],
 "metadata": {
  "kernelspec": {
   "display_name": "Python 3 (ipykernel)",
   "language": "python",
   "name": "python3"
  },
  "language_info": {
   "codemirror_mode": {
    "name": "ipython",
    "version": 3
   },
   "file_extension": ".py",
   "mimetype": "text/x-python",
   "name": "python",
   "nbconvert_exporter": "python",
   "pygments_lexer": "ipython3",
   "version": "3.9.12"
  }
 },
 "nbformat": 4,
 "nbformat_minor": 5
}
